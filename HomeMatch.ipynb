{
 "cells": [
  {
   "cell_type": "markdown",
   "id": "a108af04",
   "metadata": {},
   "source": [
    "This is a starter notebook for the project, you'll have to import the libraries you'll need, you can find a list of the ones available in this workspace in the requirements.txt file in this workspace. "
   ]
  },
  {
   "cell_type": "markdown",
   "id": "9c0c5a94",
   "metadata": {},
   "source": [
    "# Step 1: Setting Up the Python Application\n",
    "\n",
    "- Initialize a Python Project: Create a new Python project, setting up a virtual environment and installing necessary packages like LangChain, a suitable LLM library (e.g., OpenAI's GPT), and a vector database package compatible with Python (e.g., ChromaDB or LanceDB). If you don't wish to create your files from scratch, starter files are available in the workspace on the next page as an application skeleton.\n"
   ]
  },
  {
   "cell_type": "code",
   "execution_count": 1,
   "id": "6554fd4c",
   "metadata": {},
   "outputs": [],
   "source": [
    "import pandas as pd\n",
    "\n",
    "from langchain.chat_models import ChatOpenAI\n",
    "from langchain.llms import OpenAI\n",
    "from langchain.document_loaders.csv_loader import CSVLoader\n",
    "from langchain.embeddings.openai import OpenAIEmbeddings\n",
    "from langchain.text_splitter import CharacterTextSplitter\n",
    "from langchain.vectorstores import Chroma\n",
    "from langchain.chains import RetrievalQA\n",
    "from langchain.prompts import PromptTemplate\n",
    "from langchain import LLMChain\n",
    "from langchain.chains.question_answering import load_qa_chain"
   ]
  },
  {
   "cell_type": "code",
   "execution_count": 2,
   "id": "5319a9d7",
   "metadata": {},
   "outputs": [],
   "source": [
    "openai_api_key = \"YOUR API KEY\""
   ]
  },
  {
   "cell_type": "markdown",
   "id": "e9301f06",
   "metadata": {},
   "source": [
    "# Step 2: Generating Real Estate Listings\n",
    "\n",
    "- Generate real estate listings using a Large Language Model. Generate at least 10 listings This can involve creating prompts for the LLM to produce descriptions of various properties. An example of a listing might be:\n",
    "    \n",
    "    ```\n",
    "    Neighborhood: Green Oaks\n",
    "    Price: $800,000\n",
    "    Bedrooms: 3\n",
    "    Bathrooms: 2\n",
    "    House Size: 2,000 sqft\n",
    "\n",
    "    Description: Welcome to this eco-friendly oasis nestled in the heart of Green Oaks. This charming 3-bedroom, 2-bathroom home boasts energy-efficient features such as solar panels and a well-insulated structure. Natural light floods the living spaces, highlighting the beautiful hardwood floors and eco-conscious finishes. The open-concept kitchen and dining area lead to a spacious backyard with a vegetable garden, perfect for the eco-conscious family. Embrace sustainable living without compromising on style in this Green Oaks gem.\n",
    "\n",
    "    Neighborhood Description: Green Oaks is a close-knit, environmentally-conscious community with access to organic grocery stores, community gardens, and bike paths. Take a stroll through the nearby Green Oaks Park or grab a cup of coffee at the cozy Green Bean Cafe. With easy access to public transportation and bike lanes, commuting is a breeze.\n",
    "    ```\n",
    "    \n",
    "\n",
    "- You'll use these listings to populate the database for testing and development of \"HomeMatch\"."
   ]
  },
  {
   "cell_type": "code",
   "execution_count": 3,
   "id": "3cb976f8",
   "metadata": {},
   "outputs": [],
   "source": [
    "completion_model_name = \"gpt-3.5-turbo-instruct\"\n",
    "temperature = 0.9\n",
    "completion_llm = OpenAI(model_name=completion_model_name, temperature=temperature, max_tokens=256, openai_api_key=openai_api_key)"
   ]
  },
  {
   "cell_type": "code",
   "execution_count": 4,
   "id": "4f240954-64d2-4ec3-95dc-f50d719b2240",
   "metadata": {},
   "outputs": [],
   "source": [
    "prompt_format = \"\"\"\n",
    "You are a real estate agent. \n",
    "You have to return only real state listings using following format.\n",
    "\n",
    "Format:\n",
    "Neighborhood: \n",
    "Price:\n",
    "Bedrooms:\n",
    "Bathrooms:\n",
    "House Size:\n",
    "Description:\n",
    "Neighborhood Description:\n",
    "\n",
    "Examlpe:\n",
    "Neighborhood: Green Oaks\n",
    "Price: $800,000\n",
    "Bedrooms: 3\n",
    "Bathrooms: 2\n",
    "House Size: 2,000 sqft\n",
    "Description: Welcome to this eco-friendly oasis nestled in the heart of Green Oaks. This charming 3-bedroom, 2-bathroom home boasts energy-efficient features such as solar panels and a well-insulated structure. Natural light floods the living spaces, highlighting the beautiful hardwood floors and eco-conscious finishes. The open-concept kitchen and dining area lead to a spacious backyard with a vegetable garden, perfect for the eco-conscious family. Embrace sustainable living without compromising on style in this Green Oaks gem.\n",
    "Neighborhood Description: Green Oaks is a close-knit, environmentally-conscious community with access to organic grocery stores, community gardens, and bike paths. Take a stroll through the nearby Green Oaks Park or grab a cup of coffee at the cozy Green Bean Cafe. With easy access to public transportation and bike lanes, commuting is a breeze.\n",
    "\n",
    "Then real state listings in {} is \n",
    "\"\"\""
   ]
  },
  {
   "cell_type": "code",
   "execution_count": 5,
   "id": "82de2ffd-87a4-4774-b24e-d6374d6812cb",
   "metadata": {},
   "outputs": [],
   "source": [
    "def generate_real_estate_data(prompt):\n",
    "    response = completion_llm(prompt)\n",
    "    # print(response)\n",
    "    data = []\n",
    "    if(response.split(\"\\n\")[0]==''):\n",
    "        for line in response.split(\"\\n\")[1:]:\n",
    "            data.append(line.split(\":\")[1])\n",
    "    else:\n",
    "        for line in response.split(\"\\n\"):\n",
    "            data.append(line.split(\":\")[1])\n",
    "    \n",
    "    return data"
   ]
  },
  {
   "cell_type": "code",
   "execution_count": 6,
   "id": "a96befb0",
   "metadata": {},
   "outputs": [],
   "source": [
    "location = \"California\"\n",
    "num_listings = 10\n",
    "generated_data = []\n",
    "\n",
    "prompt = prompt_format.format(location)\n",
    "\n",
    "for i in range(num_listings):\n",
    "    data = generate_real_estate_data(prompt)\n",
    "    generated_data.append(data)"
   ]
  },
  {
   "cell_type": "code",
   "execution_count": 7,
   "id": "3507fa13",
   "metadata": {},
   "outputs": [],
   "source": [
    "columns = [\"Neighborhood\",\"Price\",\"Bedrooms\",\"Bathrooms\",\"House Size\",\"Description\",\"Neighborhood Description\"]\n",
    "\n",
    "df = pd.DataFrame(generated_data, columns=columns)"
   ]
  },
  {
   "cell_type": "code",
   "execution_count": 8,
   "id": "714f6350",
   "metadata": {},
   "outputs": [
    {
     "data": {
      "text/html": [
       "<div>\n",
       "<style scoped>\n",
       "    .dataframe tbody tr th:only-of-type {\n",
       "        vertical-align: middle;\n",
       "    }\n",
       "\n",
       "    .dataframe tbody tr th {\n",
       "        vertical-align: top;\n",
       "    }\n",
       "\n",
       "    .dataframe thead th {\n",
       "        text-align: right;\n",
       "    }\n",
       "</style>\n",
       "<table border=\"1\" class=\"dataframe\">\n",
       "  <thead>\n",
       "    <tr style=\"text-align: right;\">\n",
       "      <th></th>\n",
       "      <th>Neighborhood</th>\n",
       "      <th>Price</th>\n",
       "      <th>Bedrooms</th>\n",
       "      <th>Bathrooms</th>\n",
       "      <th>House Size</th>\n",
       "      <th>Description</th>\n",
       "      <th>Neighborhood Description</th>\n",
       "    </tr>\n",
       "  </thead>\n",
       "  <tbody>\n",
       "    <tr>\n",
       "      <th>0</th>\n",
       "      <td>Pacific Palisades</td>\n",
       "      <td>$3,500,000</td>\n",
       "      <td>4</td>\n",
       "      <td>3.5</td>\n",
       "      <td>3,500 sqft</td>\n",
       "      <td>This stunning modern home in the sought-after...</td>\n",
       "      <td>Pacific Palisades is a premier coastal commun...</td>\n",
       "    </tr>\n",
       "    <tr>\n",
       "      <th>1</th>\n",
       "      <td>Hollywood Hills</td>\n",
       "      <td>$2,500,000</td>\n",
       "      <td>5</td>\n",
       "      <td>4</td>\n",
       "      <td>3,500 sqft</td>\n",
       "      <td>Experience luxury living in this stunning 5-b...</td>\n",
       "      <td>The Hollywood Hills is a highly desirable nei...</td>\n",
       "    </tr>\n",
       "    <tr>\n",
       "      <th>2</th>\n",
       "      <td>Ladera Ranch</td>\n",
       "      <td>$1,200,000</td>\n",
       "      <td>4</td>\n",
       "      <td>3</td>\n",
       "      <td>3,500 sqft</td>\n",
       "      <td>This stunning 4-bedroom, 3-bathroom home is l...</td>\n",
       "      <td>Ladera Ranch is a family-friendly community l...</td>\n",
       "    </tr>\n",
       "    <tr>\n",
       "      <th>3</th>\n",
       "      <td>Manhattan Beach</td>\n",
       "      <td>$2,500,000</td>\n",
       "      <td>5</td>\n",
       "      <td>3.5</td>\n",
       "      <td>3,500 sqft</td>\n",
       "      <td>This stunning 5-bedroom, 3.5-bathroom home in...</td>\n",
       "      <td>Manhattan Beach is a highly sought-after coas...</td>\n",
       "    </tr>\n",
       "    <tr>\n",
       "      <th>4</th>\n",
       "      <td>Santa Monica</td>\n",
       "      <td>$1,500,000</td>\n",
       "      <td>4</td>\n",
       "      <td>3</td>\n",
       "      <td>2,500 sqft</td>\n",
       "      <td>This stunning Mediterranean-style home in San...</td>\n",
       "      <td>Santa Monica is a desirable beachfront city k...</td>\n",
       "    </tr>\n",
       "    <tr>\n",
       "      <th>5</th>\n",
       "      <td>West Hollywood</td>\n",
       "      <td>$1,500,000</td>\n",
       "      <td>4</td>\n",
       "      <td>3</td>\n",
       "      <td>2,500 sqft</td>\n",
       "      <td>Live in luxury in the heart of West Hollywood...</td>\n",
       "      <td>West Hollywood is known for its vibrant night...</td>\n",
       "    </tr>\n",
       "    <tr>\n",
       "      <th>6</th>\n",
       "      <td>Beverly Hills</td>\n",
       "      <td>$5,500,000</td>\n",
       "      <td>5</td>\n",
       "      <td>6</td>\n",
       "      <td>4,200 sqft</td>\n",
       "      <td>Located in the prestigious Beverly Hills neig...</td>\n",
       "      <td>Beverly Hills is known for its upscale shoppi...</td>\n",
       "    </tr>\n",
       "    <tr>\n",
       "      <th>7</th>\n",
       "      <td>Los Feliz</td>\n",
       "      <td>$1,200,000</td>\n",
       "      <td>4</td>\n",
       "      <td>3</td>\n",
       "      <td>2,500 sqft</td>\n",
       "      <td>Located in the highly desirable neighborhood ...</td>\n",
       "      <td>Los Feliz is known for its trendy restaurants...</td>\n",
       "    </tr>\n",
       "    <tr>\n",
       "      <th>8</th>\n",
       "      <td>Beverly Hills</td>\n",
       "      <td>$5,500,000</td>\n",
       "      <td>5</td>\n",
       "      <td>6</td>\n",
       "      <td>5,000 sqft</td>\n",
       "      <td>Welcome to luxurious living in Beverly Hills....</td>\n",
       "      <td>Beverly Hills is known for its luxurious life...</td>\n",
       "    </tr>\n",
       "    <tr>\n",
       "      <th>9</th>\n",
       "      <td>Beverly Hills</td>\n",
       "      <td>$5,000,000</td>\n",
       "      <td>6</td>\n",
       "      <td>8</td>\n",
       "      <td>6,000 sqft</td>\n",
       "      <td>Experience luxury living in this stunning 6-b...</td>\n",
       "      <td>Beverly Hills is the epitome of luxury living...</td>\n",
       "    </tr>\n",
       "  </tbody>\n",
       "</table>\n",
       "</div>"
      ],
      "text/plain": [
       "         Neighborhood        Price Bedrooms Bathrooms   House Size  \\\n",
       "0   Pacific Palisades   $3,500,000        4       3.5   3,500 sqft   \n",
       "1     Hollywood Hills   $2,500,000        5         4   3,500 sqft   \n",
       "2        Ladera Ranch   $1,200,000        4         3   3,500 sqft   \n",
       "3     Manhattan Beach   $2,500,000        5       3.5   3,500 sqft   \n",
       "4        Santa Monica   $1,500,000        4         3   2,500 sqft   \n",
       "5      West Hollywood   $1,500,000        4         3   2,500 sqft   \n",
       "6       Beverly Hills   $5,500,000        5         6   4,200 sqft   \n",
       "7           Los Feliz   $1,200,000        4         3   2,500 sqft   \n",
       "8       Beverly Hills   $5,500,000        5         6   5,000 sqft   \n",
       "9       Beverly Hills   $5,000,000        6         8   6,000 sqft   \n",
       "\n",
       "                                         Description  \\\n",
       "0   This stunning modern home in the sought-after...   \n",
       "1   Experience luxury living in this stunning 5-b...   \n",
       "2   This stunning 4-bedroom, 3-bathroom home is l...   \n",
       "3   This stunning 5-bedroom, 3.5-bathroom home in...   \n",
       "4   This stunning Mediterranean-style home in San...   \n",
       "5   Live in luxury in the heart of West Hollywood...   \n",
       "6   Located in the prestigious Beverly Hills neig...   \n",
       "7   Located in the highly desirable neighborhood ...   \n",
       "8   Welcome to luxurious living in Beverly Hills....   \n",
       "9   Experience luxury living in this stunning 6-b...   \n",
       "\n",
       "                            Neighborhood Description  \n",
       "0   Pacific Palisades is a premier coastal commun...  \n",
       "1   The Hollywood Hills is a highly desirable nei...  \n",
       "2   Ladera Ranch is a family-friendly community l...  \n",
       "3   Manhattan Beach is a highly sought-after coas...  \n",
       "4   Santa Monica is a desirable beachfront city k...  \n",
       "5   West Hollywood is known for its vibrant night...  \n",
       "6   Beverly Hills is known for its upscale shoppi...  \n",
       "7   Los Feliz is known for its trendy restaurants...  \n",
       "8   Beverly Hills is known for its luxurious life...  \n",
       "9   Beverly Hills is the epitome of luxury living...  "
      ]
     },
     "execution_count": 8,
     "metadata": {},
     "output_type": "execute_result"
    }
   ],
   "source": [
    "df"
   ]
  },
  {
   "cell_type": "code",
   "execution_count": 9,
   "id": "b78069f3",
   "metadata": {},
   "outputs": [],
   "source": [
    "df.to_csv(\"listings.csv\")"
   ]
  },
  {
   "cell_type": "markdown",
   "id": "2e5d48a3",
   "metadata": {},
   "source": [
    "# Step 3: Storing Listings in a Vector Database\n",
    "\n",
    "- Vector Database Setup: Initialize and configure ChromaDB or a similar vector database to store real estate listings.\n",
    "\n",
    "- Generating and Storing Embeddings: Convert the LLM-generated listings into suitable embeddings that capture the semantic content of each listing, and store these embeddings in the vector database.\n"
   ]
  },
  {
   "cell_type": "code",
   "execution_count": 10,
   "id": "1b7f808d",
   "metadata": {},
   "outputs": [],
   "source": [
    "loader = CSVLoader(file_path='./listings.csv')\n",
    "docs = loader.load()\n",
    "\n",
    "# print(docs)\n",
    "\n",
    "splitter = CharacterTextSplitter(chunk_size=1000, chunk_overlap=0)\n",
    "split_docs = splitter.split_documents(docs)\n",
    "\n",
    "embeddings = OpenAIEmbeddings(openai_api_key=openai_api_key)\n",
    "\n",
    "db = Chroma.from_documents(split_docs, embeddings)"
   ]
  },
  {
   "cell_type": "markdown",
   "id": "62c1c229",
   "metadata": {},
   "source": [
    "# Step 4: Building the User Preference Interface\n",
    "\n",
    "- Collect buyer preferences, such as the number of bedrooms, bathrooms, location, and other specific requirements from a set of questions or telling the buyer to enter their preferences in natural language. You can hard-code the buyer preferences in questions and answers, or collect them interactively however you'd like, example:\n",
    "    ```\n",
    "    questions = [   \n",
    "                \"How big do you want your house to be?\" \n",
    "                \"What are 3 most important things for you in choosing this property?\", \n",
    "                \"Which amenities would you like?\", \n",
    "                \"Which transportation options are important to you?\",\n",
    "                \"How urban do you want your neighborhood to be?\",   \n",
    "            ]\n",
    "    answers = [\n",
    "        \"A comfortable three-bedroom house with a spacious kitchen and a cozy living room.\",\n",
    "        \"A quiet neighborhood, good local schools, and convenient shopping options.\",\n",
    "        \"A backyard for gardening, a two-car garage, and a modern, energy-efficient heating system.\",\n",
    "        \"Easy access to a reliable bus line, proximity to a major highway, and bike-friendly roads.\",\n",
    "        \"A balance between suburban tranquility and access to urban amenities like restaurants and theaters.\"\n",
    "    ```\n",
    "- Buyer Preference Parsing: Implement logic to interpret and structure these preferences for querying the vector database.\n"
   ]
  },
  {
   "cell_type": "code",
   "execution_count": 11,
   "id": "ee0bb906",
   "metadata": {},
   "outputs": [],
   "source": [
    "prompt_format = \"\"\"\n",
    "You are a real estate buyer interetsed in real estates in {}.\n",
    "Answer the following questions. Return answer only.\n",
    "\n",
    "Questions:\n",
    "How big do you want your house to be?\n",
    "What are 3 most important things for you in choosing this property?\n",
    "Which amenities would you like?\n",
    "Which transportation options are important to you?\n",
    "How urban do you want your neighborhood to be?\n",
    "\n",
    "Examlpe:\n",
    "A comfortable three-bedroom house with a spacious kitchen and a cozy living room.\n",
    "A quiet neighborhood, good local schools, and convenient shopping options.\n",
    "A backyard for gardening, a two-car garage, and a modern, energy-efficient heating system.\n",
    "Easy access to a reliable bus line, proximity to a major highway, and bike-friendly roads.\n",
    "A balance between suburban tranquility and access to urban amenities like restaurants and theaters.\n",
    "\n",
    "Answers:\n",
    "\"\"\""
   ]
  },
  {
   "cell_type": "code",
   "execution_count": 12,
   "id": "929c03d7-d124-4f93-be86-c1b73173eb21",
   "metadata": {},
   "outputs": [],
   "source": [
    "def generate_user_preference(prompt):\n",
    "    response = completion_llm(prompt)\n",
    "    return response"
   ]
  },
  {
   "cell_type": "code",
   "execution_count": 13,
   "id": "b961ddfe-987c-41f0-a726-fe1c6fdf7f59",
   "metadata": {},
   "outputs": [
    {
     "name": "stdout",
     "output_type": "stream",
     "text": [
      "\n",
      "I am interested in a comfortable three-bedroom house with a spacious kitchen and a cozy living room.\n",
      "The three most important things for me in choosing this property are a quiet neighborhood, good local schools, and convenient shopping options.\n",
      "For amenities, I would like a backyard for gardening, a two-car garage, and a modern, energy-efficient heating system.\n",
      "In terms of transportation options, I prefer easy access to a reliable bus line, proximity to a major highway, and bike-friendly roads.\n",
      "I am looking for a balance between suburban tranquility and access to urban amenities like restaurants and theaters for my neighborhood in California.\n"
     ]
    }
   ],
   "source": [
    "user_preference = generate_user_preference(prompt_format.format(location))\n",
    "print(user_preference)"
   ]
  },
  {
   "cell_type": "markdown",
   "id": "70bfbb57",
   "metadata": {},
   "source": [
    "# Step 5: Searching Based on Preferences\n",
    "\n",
    "- Semantic Search Implementation: Use the structured buyer preferences to perform a semantic search on the vector database, retrieving listings that most closely match the user's requirements.\n",
    "\n",
    "- Listing Retrieval Logic: Fine-tune the retrieval algorithm to ensure that the most relevant listings are selected based on the semantic closeness to the buyer’s preferences.\n",
    "\n",
    "# Step 6: Personalizing Listing Descriptions\n",
    "\n",
    "- LLM Augmentation: For each retrieved listing, use the LLM to augment the description, tailoring it to resonate with the buyer’s specific preferences. This involves subtly emphasizing aspects of the property that align with what the buyer is looking for.\n",
    "\n",
    "- Maintaining Factual Integrity: Ensure that the augmentation process enhances the appeal of the listing without altering factual information.\n"
   ]
  },
  {
   "cell_type": "code",
   "execution_count": 14,
   "id": "35dc3a5d-0e17-46b8-9486-2039f74d9186",
   "metadata": {},
   "outputs": [],
   "source": [
    "model_name = 'gpt-3.5-turbo'\n",
    "llm = ChatOpenAI(model_name=model_name, temperature=0, max_tokens=2000, openai_api_key=openai_api_key)"
   ]
  },
  {
   "cell_type": "code",
   "execution_count": 15,
   "id": "afc91dfb-2f97-4252-87be-040d72648e04",
   "metadata": {},
   "outputs": [],
   "source": [
    "def get_personalized_descriptions(user_preference):\n",
    "    query = user_preference + \"Show me descriptions and three exmaples from database.\"\n",
    "\n",
    "    use_chain_helper = False\n",
    "    if use_chain_helper:\n",
    "        rag = RetrievalQA.from_chain_type(llm=llm, chain_type=\"stuff\", retriever=db.as_retriever())\n",
    "        print(rag.run(query))\n",
    "    else:\n",
    "        similar_docs = db.similarity_search(query, k=5)\n",
    "        prompt = PromptTemplate(\n",
    "            template=\"{query}\\nContext: {context}\",\n",
    "            input_variables=[\"query\", \"context\"],\n",
    "        )\n",
    "        chain = load_qa_chain(llm, prompt = prompt, chain_type=\"stuff\")\n",
    "        print(chain.run(input_documents=similar_docs, query = query))"
   ]
  },
  {
   "cell_type": "code",
   "execution_count": 16,
   "id": "71af2a10-8df0-46a2-8023-4feeb94e8039",
   "metadata": {},
   "outputs": [
    {
     "name": "stdout",
     "output_type": "stream",
     "text": [
      "Based on your preferences, here are three examples from the database that may interest you:\n",
      "\n",
      "1. Neighborhood: Manhattan Beach\n",
      "Price: $2,500,000\n",
      "Bedrooms: 5\n",
      "Bathrooms: 3.5\n",
      "House Size: 3,500 sqft\n",
      "Description: This stunning 5-bedroom, 3.5-bathroom home in Manhattan Beach embraces the California beach lifestyle. With high-end finishes and plenty of natural light, this home exudes luxury and comfort. The spacious backyard features a pool, hot tub, and outdoor kitchen, perfect for entertaining. Enjoy ocean views from the rooftop deck or take a short walk to the nearby beach and shops. Live your best life in this beachside haven.\n",
      "\n",
      "2. Neighborhood: Santa Monica\n",
      "Price: $1,500,000\n",
      "Bedrooms: 4\n",
      "Bathrooms: 3\n",
      "House Size: 2,500 sqft\n",
      "Description: This stunning Mediterranean-style home in Santa Monica offers the perfect blend of luxury and comfort. Boasting 4 bedrooms and 3 bathrooms, this spacious home features high-end finishes, hardwood floors, and a gourmet kitchen with top-of-the-line appliances. Relax in the backyard oasis with a pool and hot tub, perfect for entertaining. With its prime location just minutes away from the beach, shopping, and dining, this Santa Monica gem is the ultimate California dream home.\n",
      "\n",
      "3. Neighborhood: Los Feliz\n",
      "Price: $1,200,000\n",
      "Bedrooms: 4\n",
      "Bathrooms: 3\n",
      "House Size: 2,500 sqft\n",
      "Description: Located in the highly desirable neighborhood of Los Feliz, this stunning 4-bedroom, 3-bathroom home offers both luxury and convenience. With its modern design and top-of-the-line appliances, this home is perfect for entertaining. The spacious living area opens up to a private backyard with a sparkling pool, perfect for soaking up the California sunshine. Retreat to the master suite with a spa-like bathroom and walk-in closet for the ultimate in relaxation.\n"
     ]
    }
   ],
   "source": [
    "get_personalized_descriptions(user_preference)"
   ]
  },
  {
   "cell_type": "markdown",
   "id": "9a8e2b0d",
   "metadata": {},
   "source": [
    "# Step 7: Deliverables and Testing\n",
    "\n",
    "- Test your \"HomeMatch\" application and make sure it meets all of the [requirements in the rubric](https://review.udacity.com/#!/rubrics/5403/view). Your project code will be run when it's assessed. Enter different \"buyer preferences\" and ensure it works.\n",
    "\n",
    "- Jupyter Notebook/Python Program: Compile the application code in a Jupyter notebook or a standalone Python program. Ensure the code is well-commented and logically structured.\n",
    "\n",
    "- Example Outputs: Include example outputs showcasing how user preferences are processed and how the application generates personalized listing descriptions. You can include these in comments in your application or in a Jupyter notebook that's saved with outputs.\n"
   ]
  },
  {
   "cell_type": "code",
   "execution_count": 17,
   "id": "e545db02",
   "metadata": {},
   "outputs": [
    {
     "name": "stdout",
     "output_type": "stream",
     "text": [
      "The size of the house does not matter, as long as it is comfortable for my needs.\n",
      "A convenient location, good local schools, and a safe neighborhood are important to me.\n",
      "A backyard for gardening, a modern kitchen, and a garage for storage are amenities I would like.\n",
      "Proximity to a major highway, bike-friendly roads, and access to public transportation are important transportation options for me.\n",
      "I would like a suburban neighborhood with access to urban amenities such as restaurants and shopping.\n"
     ]
    }
   ],
   "source": [
    "user_preference = generate_user_preference(prompt_format.format(location))\n",
    "print(user_preference)"
   ]
  },
  {
   "cell_type": "code",
   "execution_count": 18,
   "id": "5b98d77a-0931-4c94-abec-ac5865e323d7",
   "metadata": {},
   "outputs": [
    {
     "name": "stdout",
     "output_type": "stream",
     "text": [
      "Based on the descriptions provided, here are three examples that align with your preferences:\n",
      "\n",
      "1. Neighborhood: Santa Monica\n",
      "Price: $1,500,000\n",
      "Bedrooms: 4\n",
      "Bathrooms: 3\n",
      "House Size: 2,500 sqft\n",
      "Description: This Mediterranean-style home in Santa Monica offers luxury and comfort with high-end finishes, a gourmet kitchen, and a backyard oasis with a pool and hot tub. Located minutes away from the beach, shopping, and dining, this home provides the ultimate California dream lifestyle.\n",
      "\n",
      "2. Neighborhood: Los Feliz\n",
      "Price: $1,200,000\n",
      "Bedrooms: 4\n",
      "Bathrooms: 3\n",
      "House Size: 2,500 sqft\n",
      "Description: This modern home in Los Feliz features top-of-the-line appliances, a private backyard with a pool, and a master suite for relaxation. With trendy restaurants, boutique shops, and historic attractions nearby, this neighborhood offers a vibrant lifestyle.\n",
      "\n",
      "3. Neighborhood: Manhattan Beach\n",
      "Price: $2,500,000\n",
      "Bedrooms: 5\n",
      "Bathrooms: 3.5\n",
      "House Size: 3,500 sqft\n",
      "Description: This beachside home in Manhattan Beach embraces the California lifestyle with high-end finishes, a pool, hot tub, and rooftop deck with ocean views. With upscale dining and shopping, top-rated schools, and convenient access to major highways, this neighborhood offers the perfect blend of luxury and convenience.\n"
     ]
    }
   ],
   "source": [
    "get_personalized_descriptions(user_preference)"
   ]
  },
  {
   "cell_type": "markdown",
   "id": "3cad3e18",
   "metadata": {},
   "source": [
    "# Step 8: Project Submission\n",
    "\n",
    "- Generated Listings: Include a file that contains your synthetically generated real estate listings. Name this file \"listings\"\n",
    "\n",
    "- Project Documentation: Include a readme file or an accompanying document explaining the functionality, how to run the code, and any prerequisites or dependencies.\n",
    "\n",
    "- Code Submission: Submit the Jupyter Notebook or Python program on the \"Project Submission Page\" that follows the workspace page.\n"
   ]
  },
  {
   "cell_type": "code",
   "execution_count": null,
   "id": "ed803854",
   "metadata": {},
   "outputs": [],
   "source": []
  }
 ],
 "metadata": {
  "kernelspec": {
   "display_name": "Python 3 (ipykernel)",
   "language": "python",
   "name": "python3"
  },
  "language_info": {
   "codemirror_mode": {
    "name": "ipython",
    "version": 3
   },
   "file_extension": ".py",
   "mimetype": "text/x-python",
   "name": "python",
   "nbconvert_exporter": "python",
   "pygments_lexer": "ipython3",
   "version": "3.12.1"
  }
 },
 "nbformat": 4,
 "nbformat_minor": 5
}
